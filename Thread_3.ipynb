{
 "cells": [
  {
   "cell_type": "code",
   "execution_count": null,
   "metadata": {
    "dotnet_interactive": {
     "language": "csharp"
    },
    "polyglot_notebook": {
     "kernelName": "csharp"
    }
   },
   "outputs": [],
   "source": [
    "#r \"nuget: xunit, 2.8.1\"\n",
    "using System.Threading;\n",
    "using Xunit;\n",
    "\n",
    "class Message\n",
    "{\n",
    "    static int messageHandled = 0;\n",
    "    int id;\n",
    "    public Message()\n",
    "    {\n",
    "        id = Thread.CurrentThread.ManagedThreadId;\n",
    "    }\n",
    "\n",
    "    public void Handle()\n",
    "    {\n",
    "        Interlocked.Increment(ref messageHandled);\n",
    "        Assert.NotEqual(id, Thread.CurrentThread.ManagedThreadId);\n",
    "    }\n",
    "\n",
    "    public static void Check()\n",
    "    {\n",
    "        Assert.Equal(200, messageHandled);\n",
    "    }\n",
    "}"
   ]
  },
  {
   "cell_type": "code",
   "execution_count": null,
   "metadata": {
    "dotnet_interactive": {
     "language": "csharp"
    },
    "polyglot_notebook": {
     "kernelName": "csharp"
    }
   },
   "outputs": [],
   "source": [
    "using System.Collections.Concurrent;\n",
    "using System.Threading;\n",
    "using System.Threading.Tasks;\n",
    "\n",
    "var queue1 = new BlockingCollection<Message>(2); //очередь первого потока\n",
    "var queue2 = new BlockingCollection<Message>(2); //очередь второго потока\n",
    "\n",
    "\n",
    "// Создаем два потока\n",
    "var thread1 = new Thread(() =>\n",
    "{\n",
    "    for (int i = 0; i < 100; i++)\n",
    "    {\n",
    "        // Читаем сообщение из очереди первого потока\n",
    "        var message = queue1.Take();\n",
    "        // Обрабатываем сообщение\n",
    "        message.Handle();\n",
    "        // Создаем новое сообщение и записываем его в очередь второго потока\n",
    "        var newMessage = new Message();\n",
    "        queue2.Add(newMessage);\n",
    "    }\n",
    "    \n",
    "});\n",
    "var thread2 = new Thread(() =>\n",
    "{\n",
    "    for (int i = 0; i < 100; i++)\n",
    "    {\n",
    "        // Читаем сообщение из очереди второго потока\n",
    "        var message = queue2.Take();\n",
    "        // Обрабатываем сообщение\n",
    "        message.Handle();\n",
    "        // Создаем новое сообщение и записываем его в очередь первого потока\n",
    "        if(i!=99)\n",
    "        {\n",
    "            var newMessage = new Message();\n",
    "            queue1.Add(newMessage);\n",
    "        }\n",
    "        \n",
    "    }\n",
    "    \n",
    "});\n",
    "// Создаем первое сообщение и записываем его в очередь первого потока\n",
    "var firstMessage = new Message();\n",
    "queue1.Add(firstMessage);\n",
    "\n",
    "// Запускаем потоки\n",
    "thread1.Start();\n",
    "thread2.Start();\n",
    "\n",
    "// Дожидаемся завершения работы потоков\n",
    "Parallel.Invoke(()=>\n",
    "{\n",
    "    thread1.Join();\n",
    "},\n",
    "()=>\n",
    "{\n",
    "    thread2.Join();\n",
    "}\n",
    ");\n",
    "\n"
   ]
  },
  {
   "cell_type": "code",
   "execution_count": null,
   "metadata": {
    "dotnet_interactive": {
     "language": "csharp"
    },
    "polyglot_notebook": {
     "kernelName": "csharp"
    }
   },
   "outputs": [],
   "source": [
    "Assert.Equal(0, queue1.Count);\n",
    "Assert.Equal(0, queue2.Count);\n",
    "Message.Check();"
   ]
  }
 ],
 "metadata": {
  "kernelspec": {
   "display_name": ".NET (C#)",
   "language": "C#",
   "name": ".net-csharp"
  },
  "polyglot_notebook": {
   "kernelInfo": {
    "defaultKernelName": "csharp",
    "items": [
     {
      "aliases": [],
      "languageName": "csharp",
      "name": "csharp"
     }
    ]
   }
  }
 },
 "nbformat": 4,
 "nbformat_minor": 2
}
