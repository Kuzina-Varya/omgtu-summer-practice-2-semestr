{
 "cells": [
  {
   "cell_type": "code",
   "execution_count": 106,
   "metadata": {
    "dotnet_interactive": {
     "language": "csharp"
    },
    "polyglot_notebook": {
     "kernelName": "csharp"
    }
   },
   "outputs": [],
   "source": [
    "\n",
    "using System;\n",
    "using System.Linq;\n",
    "using System.Threading;\n",
    "using System.Threading.Tasks;\n",
    "//\n",
    "// Вычисление определенного интеграла\n",
    "//\n",
    "class DefiniteIntegral\n",
    "{\n",
    "    //\n",
    "    // a, b - границы отрезка, на котором происходит вычисление опредленного интеграла\n",
    "    // function - функция, для которой вычисляется определнный интеграл\n",
    "    // step - размер одного шага разбиения\n",
    "    // threadsNumber - число потоков, которые используются для вычислений\n",
    "    //\n",
    "    public static double Solve(double a, double b, Func<double, double> function, double step, int threadsNumber)\n",
    "    {\n",
    "       \n",
    "        \n",
    "        double thread_Step = (b - a) / threadsNumber;\n",
    "\n",
    "       \n",
    "        Task[] tasks = new Task[threadsNumber];\n",
    "\n",
    "        \n",
    "        long result = 0;\n",
    "\n",
    "       \n",
    "        Barrier barrier = new Barrier(threadsNumber);\n",
    "\n",
    "        \n",
    "        for (int i = 0; i < threadsNumber; i++)\n",
    "        {\n",
    "            int thread_Index = i;\n",
    "            tasks[i] = Task.Run(() =>\n",
    "            {\n",
    "                \n",
    "                double local_Result = 0;\n",
    "                double local_Step = step;\n",
    "                if (thread_Index == threadsNumber - 1)\n",
    "                    local_Step = (b - a) - thread_Index * thread_Step;\n",
    "                for (double x = a + thread_Index * thread_Step; x < a + (thread_Index + 1) * thread_Step; x += local_Step)\n",
    "                    local_Result += (function(x) + function(x + local_Step)) * local_Step / 2;\n",
    "\n",
    "                \n",
    "                Interlocked.Add(ref result, (long)(local_Result * 1e15));\n",
    "\n",
    "                \n",
    "                barrier.SignalAndWait();\n",
    "            });\n",
    "        }\n",
    "\n",
    "        \n",
    "        Task.WaitAll(tasks);\n",
    "\n",
    "      \n",
    "        return Math.Round(result / 1e15);\n",
    "    }\n",
    "}\n",
    "\n",
    "\n"
   ]
  },
  {
   "cell_type": "code",
   "execution_count": 107,
   "metadata": {},
   "outputs": [
    {
     "data": {
      "text/html": [
       "<div><div></div><div></div><div><strong>Installed Packages</strong><ul><li><span>xunit, 2.8.1</span></li></ul></div></div>"
      ]
     },
     "metadata": {},
     "output_type": "display_data"
    }
   ],
   "source": [
    "#!csharp\n",
    "\n",
    "#r \"nuget: xunit, 2.8.1\"\n",
    "\n",
    "using Xunit;\n",
    "\n",
    "var X = (double x) => x;\n",
    "var SIN = (double x) => Math.Sin(x);\n",
    "\n",
    "Assert.Equal(0, DefiniteIntegral.Solve(-1, 1, X, 1e-4, 2), 1e-4);\n",
    "\n",
    "Assert.Equal(0, DefiniteIntegral.Solve(-1, 1, SIN, 1e-5, 8), 1e-4);\n",
    "\n",
    "Assert.Equal(50, DefiniteIntegral.Solve(0, 10, X, 1e-6, 8), 1e-5);"
   ]
  }
 ],
 "metadata": {
  "kernelspec": {
   "display_name": ".NET (C#)",
   "language": "C#",
   "name": ".net-csharp"
  },
  "polyglot_notebook": {
   "kernelInfo": {
    "defaultKernelName": "csharp",
    "items": [
     {
      "aliases": [],
      "languageName": "csharp",
      "name": "csharp"
     }
    ]
   }
  }
 },
 "nbformat": 4,
 "nbformat_minor": 2
}
