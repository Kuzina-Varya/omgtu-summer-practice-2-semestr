{
 "cells": [
  {
   "cell_type": "code",
   "execution_count": 3,
   "metadata": {
    "dotnet_interactive": {
     "language": "csharp"
    },
    "polyglot_notebook": {
     "kernelName": "csharp"
    }
   },
   "outputs": [],
   "source": [
    "using System;\n",
    "using System.Collections.Concurrent;\n",
    "using System.Collections.Generic;\n",
    "using System.Threading;\n",
    "using System.Threading.Tasks;\n",
    "\n",
    "public class Message\n",
    "{\n",
    "    public string Content { get; }\n",
    "    public Guid CommandId { get; }\n",
    "\n",
    "    public Message(string content, Guid commandId)\n",
    "    {\n",
    "        Content = content;\n",
    "        CommandId = commandId;\n",
    "    }\n",
    "}\n",
    "\n",
    "public class Command\n",
    "{\n",
    "    private readonly ConcurrentQueue<Message> _messageQueue = new ConcurrentQueue<Message>();\n",
    "    private readonly CancellationTokenSource _cancellationTokenSource = new CancellationTokenSource();\n",
    "\n",
    "    public Guid Id { get; }\n",
    "\n",
    "    public Command()\n",
    "    {\n",
    "        Id = Guid.NewGuid();\n",
    "    }\n",
    "\n",
    "    public void Start()\n",
    "    {\n",
    "        Task.Run(() =>\n",
    "        {\n",
    "            while (!_cancellationTokenSource.IsCancellationRequested)\n",
    "            {\n",
    "                if (_messageQueue.TryDequeue(out var message))\n",
    "                {\n",
    "                    Console.WriteLine($\"Команда {Id} получила сообщение: {message.Content}\");\n",
    "                }\n",
    "                else\n",
    "                {\n",
    "                    Thread.Sleep(100);\n",
    "                }\n",
    "            }\n",
    "        });\n",
    "    }\n",
    "\n",
    "    public void Stop()\n",
    "    {\n",
    "        _cancellationTokenSource.Cancel();\n",
    "    }\n",
    "\n",
    "    public void EnqueueMessage(Message message)\n",
    "    {\n",
    "        _messageQueue.Enqueue(message);\n",
    "    }\n",
    "}\n",
    "\n",
    "public class Router\n",
    "{\n",
    "    private readonly ConcurrentDictionary<Guid, Command> _commandDictionary = new ConcurrentDictionary<Guid, Command>();\n",
    "    private readonly ConcurrentQueue<Message> _messageQueue = new ConcurrentQueue<Message>();\n",
    "    private readonly CancellationTokenSource _cancellationTokenSource = new CancellationTokenSource();\n",
    "\n",
    "    public void Start()\n",
    "    {\n",
    "        Task.Run(() =>\n",
    "        {\n",
    "            while (!_cancellationTokenSource.IsCancellationRequested)\n",
    "            {\n",
    "                if (_messageQueue.TryDequeue(out var message))\n",
    "                {\n",
    "                    if (_commandDictionary.TryGetValue(message.CommandId, out var command))\n",
    "                    {\n",
    "                        command.EnqueueMessage(message);\n",
    "                    }\n",
    "                    else\n",
    "                    {\n",
    "                        Console.WriteLine($\"Не удается доставить сообщение неизвестному получателю: {message.Content}\");\n",
    "                    }\n",
    "                }\n",
    "                else\n",
    "                {\n",
    "                    Thread.Sleep(100);\n",
    "                }\n",
    "            }\n",
    "        });\n",
    "    }\n",
    "\n",
    "    public void Stop()\n",
    "    {\n",
    "        _cancellationTokenSource.Cancel();\n",
    "    }\n",
    "\n",
    "    public void RegisterCommand(Command command)\n",
    "    {\n",
    "        _commandDictionary.TryAdd(command.Id, command);\n",
    "    }\n",
    "\n",
    "    public void UnregisterCommand(Command command)\n",
    "    {\n",
    "        _commandDictionary.TryRemove(command.Id, out _);\n",
    "    }\n",
    "\n",
    "    public void EnqueueMessage(Message message)\n",
    "    {\n",
    "        _messageQueue.Enqueue(message);\n",
    "    }\n",
    "}"
   ]
  },
  {
   "cell_type": "code",
   "execution_count": 4,
   "metadata": {},
   "outputs": [
    {
     "name": "stdout",
     "output_type": "stream",
     "text": [
      "Не удается доставить сообщение неизвестному получателю: Неизвестная команда\n",
      "Команда a2fb833d-5fa5-4591-80e1-ab11455fbdbf получила сообщение: Команда 2\n",
      "Команда ac90d532-5dea-438d-b2ea-d69b4413c3d4 получила сообщение: Команда 1\n"
     ]
    }
   ],
   "source": [
    "  var router = new Router();\n",
    "        router.Start();\n",
    "\n",
    "        var command1 = new Command();\n",
    "        var command2 = new Command();\n",
    "\n",
    "        router.RegisterCommand(command1);\n",
    "        router.RegisterCommand(command2);\n",
    "\n",
    "        command1.Start();\n",
    "        command2.Start();\n",
    "\n",
    "        router.EnqueueMessage(new Message(\"Команда 1\", command1.Id));\n",
    "        router.EnqueueMessage(new Message(\"Команда 2\", command2.Id));\n",
    "        router.EnqueueMessage(new Message(\"Неизвестная команда\", Guid.NewGuid()));\n",
    "\n",
    "        Thread.Sleep(1000);\n",
    "\n",
    "        command1.Stop();\n",
    "        command2.Stop();\n",
    "        router.Stop();"
   ]
  }
 ],
 "metadata": {
  "kernelspec": {
   "display_name": ".NET (C#)",
   "language": "C#",
   "name": ".net-csharp"
  },
  "polyglot_notebook": {
   "kernelInfo": {
    "defaultKernelName": "csharp",
    "items": [
     {
      "aliases": [],
      "languageName": "csharp",
      "name": "csharp"
     }
    ]
   }
  }
 },
 "nbformat": 4,
 "nbformat_minor": 2
}
