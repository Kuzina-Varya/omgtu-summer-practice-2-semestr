{
 "cells": [
  {
   "cell_type": "code",
   "execution_count": 6,
   "metadata": {
    "dotnet_interactive": {
     "language": "csharp"
    },
    "polyglot_notebook": {
     "kernelName": "csharp"
    }
   },
   "outputs": [],
   "source": [
    "using System;\n",
    "using System.Collections.Concurrent;\n",
    "using System.Threading;\n",
    "\n",
    "public interface ICommand\n",
    "{\n",
    "    bool Execute();\n",
    "}\n",
    "\n",
    "public interface IScheduler\n",
    "{\n",
    "    bool HasCommand();\n",
    "    ICommand Select();\n",
    "    void Add(ICommand cmd);\n",
    "}\n",
    "\n",
    "public class RoundRobinScheduler : IScheduler\n",
    "{\n",
    "    private ConcurrentQueue<ICommand> commandQueue = new ConcurrentQueue<ICommand>();\n",
    "    private int currentIndex = 0;\n",
    "\n",
    "    public bool HasCommand()\n",
    "    {\n",
    "        return !commandQueue.IsEmpty;\n",
    "    }\n",
    "\n",
    "    public ICommand Select()\n",
    "    {\n",
    "        if (!HasCommand())\n",
    "        {\n",
    "            return null;\n",
    "        }\n",
    "\n",
    "        var commands = commandQueue.ToArray();\n",
    "        var command = commands[currentIndex];\n",
    "        currentIndex = (currentIndex + 1) % commands.Length;\n",
    "        return command;\n",
    "    }\n",
    "\n",
    "    public void Add(ICommand cmd)\n",
    "    {\n",
    "        commandQueue.Enqueue(cmd);\n",
    "    }\n",
    "}\n",
    "\n"
   ]
  },
  {
   "cell_type": "code",
   "execution_count": 7,
   "metadata": {},
   "outputs": [],
   "source": [
    "public class WorkerThread\n",
    "{\n",
    "    private IScheduler scheduler;\n",
    "    private CancellationTokenSource cancellationTokenSource;\n",
    "    private CancellationToken cancellationToken;\n",
    "    private Thread thread;\n",
    "\n",
    "    public WorkerThread(IScheduler scheduler)\n",
    "    {\n",
    "        this.scheduler = scheduler;\n",
    "        this.cancellationTokenSource = new CancellationTokenSource();\n",
    "        this.cancellationToken = cancellationTokenSource.Token;\n",
    "        this.thread = new Thread(Run);\n",
    "    }\n",
    "\n",
    "    public void Start()\n",
    "    {\n",
    "        thread.Start();\n",
    "    }\n",
    "\n",
    "    public void Stop()\n",
    "    {\n",
    "        cancellationTokenSource.Cancel();\n",
    "        thread.Join();\n",
    "    }\n",
    "\n",
    "    private void Run()\n",
    "    {\n",
    "        while (!cancellationToken.IsCancellationRequested)\n",
    "        {\n",
    "            if (scheduler.HasCommand())\n",
    "            {\n",
    "                var command = scheduler.Select();\n",
    "                if (command != null)\n",
    "                {\n",
    "                    if (!command.Execute())\n",
    "                    {\n",
    "                        scheduler.Add(command);\n",
    "                    }\n",
    "                }\n",
    "            }\n",
    "            else\n",
    "            {\n",
    "                Thread.Sleep(1);\n",
    "            }\n",
    "        }\n",
    "    }\n",
    "}"
   ]
  }
 ],
 "metadata": {
  "kernelspec": {
   "display_name": ".NET (C#)",
   "language": "C#",
   "name": ".net-csharp"
  },
  "polyglot_notebook": {
   "kernelInfo": {
    "defaultKernelName": "csharp",
    "items": [
     {
      "aliases": [],
      "languageName": "csharp",
      "name": "csharp"
     }
    ]
   }
  }
 },
 "nbformat": 4,
 "nbformat_minor": 2
}
